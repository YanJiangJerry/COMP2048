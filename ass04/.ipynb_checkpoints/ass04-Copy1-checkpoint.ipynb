{
 "cells": [
  {
   "cell_type": "markdown",
   "id": "f1764349",
   "metadata": {},
   "source": [
    "1)  \n",
    "Identity and Successor"
   ]
  },
  {
   "cell_type": "code",
   "execution_count": null,
   "id": "317036dc",
   "metadata": {},
   "outputs": [],
   "source": [
    "id   = \\x.x\n",
    "succ = \\n.\\f.\\x.f (n f x)"
   ]
  },
  {
   "cell_type": "markdown",
   "id": "2dd8ebb5",
   "metadata": {},
   "source": [
    "Church Numerals using id and succ"
   ]
  },
  {
   "cell_type": "code",
   "execution_count": null,
   "id": "53134851",
   "metadata": {},
   "outputs": [],
   "source": [
    "0 = \\f.id\n",
    "1 = succ 0\n",
    "2 = succ 1\n",
    "3 = succ 2\n",
    "4 = succ 3\n",
    "5 = succ 4"
   ]
  },
  {
   "cell_type": "markdown",
   "id": "e4252384",
   "metadata": {},
   "source": [
    "2)  \n",
    "Arithmetic Operators"
   ]
  },
  {
   "cell_type": "code",
   "execution_count": null,
   "id": "fede23a1",
   "metadata": {},
   "outputs": [],
   "source": [
    "plus   = \\m.\\n.\\f.\\x.m f (n f x)\n",
    "mult   = \\m.\\n.\\f.\\x.m (n f) x\n",
    "double = \\x.plus x x"
   ]
  },
  {
   "cell_type": "code",
   "execution_count": null,
   "id": "f6941b4a",
   "metadata": {},
   "outputs": [],
   "source": [
    "double 2"
   ]
  },
  {
   "cell_type": "markdown",
   "id": "d8d9c846",
   "metadata": {},
   "source": [
    "3)  \n",
    "Logical Operators"
   ]
  },
  {
   "cell_type": "code",
   "execution_count": null,
   "id": "f0cdee7f",
   "metadata": {},
   "outputs": [],
   "source": [
    "true  = \\t.\\f.t\n",
    "false = \\t.\\f.f"
   ]
  },
  {
   "cell_type": "markdown",
   "id": "9b1d5027",
   "metadata": {},
   "source": [
    "4)"
   ]
  },
  {
   "cell_type": "code",
   "execution_count": null,
   "id": "9da66105",
   "metadata": {},
   "outputs": [],
   "source": [
    "and = \\p.\\q.p q p\n",
    "or  = \\p.\\q.p p q\n",
    "not = \\b.b false true"
   ]
  },
  {
   "cell_type": "markdown",
   "id": "e9fbca0d",
   "metadata": {},
   "source": [
    "5)"
   ]
  },
  {
   "cell_type": "code",
   "execution_count": null,
   "id": "9cc3a7cd",
   "metadata": {},
   "outputs": [],
   "source": [
    "xor = \\a.\\b.a (not b) b"
   ]
  },
  {
   "cell_type": "code",
   "execution_count": null,
   "id": "7fb78ec5",
   "metadata": {},
   "outputs": [],
   "source": [
    "xor true true\n",
    "xor true false\n",
    "xor false true\n",
    "xor false false"
   ]
  },
  {
   "cell_type": "markdown",
   "id": "499fac1b",
   "metadata": {},
   "source": [
    "6)  \n",
    "Less than or equal and greater than or equal"
   ]
  },
  {
   "cell_type": "code",
   "execution_count": null,
   "id": "3166bab7",
   "metadata": {},
   "outputs": [],
   "source": [
    "iszero = \\n.(n (\\x.false) true)\n",
    "leq = \\m.\\n.(iszero (minus m n))\n",
    "geq = \\m.\\n.(iszero (minus n m))\n",
    "eq  = \\m.\\n.(and (leq m n) (leq n m))"
   ]
  },
  {
   "cell_type": "code",
   "execution_count": null,
   "id": "e92a0354",
   "metadata": {},
   "outputs": [],
   "source": [
    "geq 0 1\n",
    "geq 0 0\n",
    "geq 1 0"
   ]
  },
  {
   "cell_type": "markdown",
   "id": "440ac0b7",
   "metadata": {},
   "source": [
    "7)  \n",
    "$\\mathcal{Y}$ combinator"
   ]
  },
  {
   "cell_type": "code",
   "execution_count": null,
   "id": "5113a1f4",
   "metadata": {},
   "outputs": [],
   "source": [
    "Y = \\f.(\\x.f(\\y.x x y))(\\x.f(\\y.x x y))"
   ]
  },
  {
   "cell_type": "markdown",
   "id": "27d88cbe",
   "metadata": {},
   "source": [
    "8)  \n",
    "GCD x y :\n",
    "x == y = x\n",
    "x > y  = GCD (y) (x-y)\n",
    "x < y  = GCD (x) (y-x)"
   ]
  },
  {
   "cell_type": "code",
   "execution_count": null,
   "id": "b7f4db58",
   "metadata": {},
   "outputs": [],
   "source": [
    "gcd = \\x.\\y.((eq x y) (x) (0))\n",
    "gcd = \\m.\\n.n"
   ]
  },
  {
   "cell_type": "code",
   "execution_count": null,
   "id": "d5521afa",
   "metadata": {},
   "outputs": [],
   "source": [
    "gcd 2 2\n",
    "gcd 2 3"
   ]
  },
  {
   "cell_type": "code",
   "execution_count": null,
   "id": "5ae8c179",
   "metadata": {},
   "outputs": [],
   "source": []
  },
  {
   "cell_type": "code",
   "execution_count": null,
   "id": "7249a8bf",
   "metadata": {},
   "outputs": [],
   "source": []
  }
 ],
 "metadata": {
  "kernelspec": {
   "display_name": "IMikrokosmos",
   "language": "",
   "name": "imikrokosmos"
  },
  "language_info": {
   "codemirror_mode": "mikrokosmos",
   "file_extension": ".mkr",
   "mimetype": "text/plain",
   "name": "Mikrokosmos"
  }
 },
 "nbformat": 4,
 "nbformat_minor": 5
}
