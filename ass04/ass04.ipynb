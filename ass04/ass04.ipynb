{
 "cells": [
  {
   "cell_type": "markdown",
   "id": "f1764349",
   "metadata": {},
   "source": [
    "1)  \n",
    "Identity and Successor"
   ]
  },
  {
   "cell_type": "code",
   "execution_count": 33,
   "id": "317036dc",
   "metadata": {},
   "outputs": [
    {
     "name": "stdout",
     "output_type": "stream",
     "text": [
      "\u001b[?1l\u001b[22;34m\u001b[m\u001b[?1h\u001b[1;94m\u001b[?1l\u001b[22;34m\u001b[m\u001b[?1h\u001b[1;94m"
     ]
    }
   ],
   "source": [
    "id   = \\x.x\n",
    "succ = \\n.\\f.\\x.f (n f x)"
   ]
  },
  {
   "cell_type": "markdown",
   "id": "e75f2596",
   "metadata": {},
   "source": [
    "Church Numerals using id and succ"
   ]
  },
  {
   "cell_type": "code",
   "execution_count": 34,
   "id": "53134851",
   "metadata": {},
   "outputs": [
    {
     "name": "stdout",
     "output_type": "stream",
     "text": [
      "\u001b[?1l\u001b[22;34m\u001b[m\u001b[?1h\u001b[1;94m\u001b[?1l\u001b[22;34m\u001b[m\u001b[?1h\u001b[1;94m\u001b[?1l\u001b[22;34m\u001b[m\u001b[?1h\u001b[1;94m\u001b[?1l\u001b[22;34m\u001b[m\u001b[?1h\u001b[1;94m\u001b[?1l\u001b[22;34m\u001b[m\u001b[?1h\u001b[1;94m\u001b[?1l\u001b[22;34m\u001b[m\u001b[?1h\u001b[1;94m"
     ]
    }
   ],
   "source": [
    "0 = \\f.id\n",
    "1 = succ 0\n",
    "2 = succ 1\n",
    "3 = succ 2\n",
    "4 = succ 3\n",
    "5 = succ 4"
   ]
  },
  {
   "cell_type": "markdown",
   "id": "f05bb867",
   "metadata": {},
   "source": [
    "2)  \n",
    "Arithmetic Operators"
   ]
  },
  {
   "cell_type": "code",
   "execution_count": 35,
   "id": "fede23a1",
   "metadata": {},
   "outputs": [
    {
     "name": "stdout",
     "output_type": "stream",
     "text": [
      "\u001b[?1l\u001b[22;34m\u001b[m\u001b[?1h\u001b[1;94m\u001b[?1l\u001b[22;34m\u001b[m\u001b[?1h\u001b[1;94m\u001b[?1l\u001b[22;34m\u001b[m\u001b[?1h\u001b[1;94m"
     ]
    }
   ],
   "source": [
    "plus   = \\m.\\n.\\f.\\x.m f (n f x)\n",
    "mult   = \\m.\\n.\\f.\\x.m (n f) x\n",
    "double = \\x.plus x x"
   ]
  },
  {
   "cell_type": "code",
   "execution_count": 36,
   "id": "d1348f8b",
   "metadata": {},
   "outputs": [
    {
     "name": "stdout",
     "output_type": "stream",
     "text": [
      "\u001b[?1l\u001b[22;34mλa.λb.a (a (a (a b)))\u001b[32m ⇒ 4\u001b[m\u001b[m\r\n",
      "\u001b[m\u001b[?1h\u001b[1;94m"
     ]
    }
   ],
   "source": [
    "double 2"
   ]
  },
  {
   "cell_type": "markdown",
   "id": "401c6059",
   "metadata": {},
   "source": [
    "3)  \n",
    "Logical Operators"
   ]
  },
  {
   "cell_type": "code",
   "execution_count": 37,
   "id": "c9e07f43",
   "metadata": {},
   "outputs": [
    {
     "name": "stdout",
     "output_type": "stream",
     "text": [
      "\u001b[?1l\u001b[22;34m\u001b[m\u001b[?1h\u001b[1;94m\u001b[?1l\u001b[22;34m\u001b[m\u001b[?1h\u001b[1;94m"
     ]
    }
   ],
   "source": [
    "true  = \\t.\\f.t\n",
    "false = \\t.\\f.f"
   ]
  },
  {
   "cell_type": "markdown",
   "id": "2ace9509",
   "metadata": {},
   "source": [
    "4)"
   ]
  },
  {
   "cell_type": "code",
   "execution_count": 38,
   "id": "69b74eac",
   "metadata": {},
   "outputs": [
    {
     "name": "stdout",
     "output_type": "stream",
     "text": [
      "\u001b[?1l\u001b[22;34m\u001b[m\u001b[?1h\u001b[1;94m\u001b[?1l\u001b[22;34m\u001b[m\u001b[?1h\u001b[1;94m\u001b[?1l\u001b[22;34m\u001b[m\u001b[?1h\u001b[1;94m"
     ]
    }
   ],
   "source": [
    "and = \\p.\\q.p q p\n",
    "or  = \\p.\\q.p p q\n",
    "not = \\b.b false true"
   ]
  },
  {
   "cell_type": "markdown",
   "id": "e303f55a",
   "metadata": {},
   "source": [
    "5)"
   ]
  },
  {
   "cell_type": "code",
   "execution_count": 39,
   "id": "abfc19e5",
   "metadata": {},
   "outputs": [
    {
     "name": "stdout",
     "output_type": "stream",
     "text": [
      "\u001b[?1l\u001b[22;34m\u001b[m\u001b[?1h\u001b[1;94m"
     ]
    }
   ],
   "source": [
    "xor = \\a.\\b.a (not b) b"
   ]
  },
  {
   "cell_type": "code",
   "execution_count": 40,
   "id": "6bdf51d5",
   "metadata": {},
   "outputs": [
    {
     "name": "stdout",
     "output_type": "stream",
     "text": [
      "\u001b[?1l\u001b[22;34mλa.λb.b\u001b[32m ⇒ nil, 0, false\u001b[m\u001b[m\r\n",
      "\u001b[m\u001b[?1h\u001b[1;94m\u001b[?1l\u001b[22;34mλa.λb.a\u001b[32m ⇒ K, true, const\u001b[m\u001b[m\r\n",
      "\u001b[m\u001b[?1h\u001b[1;94m\u001b[?1l\u001b[22;34mλa.λb.a\u001b[32m ⇒ K, true, const\u001b[m\u001b[m\r\n",
      "\u001b[m\u001b[?1h\u001b[1;94m\u001b[?1l\u001b[22;34mλa.λb.b\u001b[32m ⇒ nil, 0, false\u001b[m\u001b[m\r\n",
      "\u001b[m\u001b[?1h\u001b[1;94m"
     ]
    }
   ],
   "source": [
    "xor true true\n",
    "xor true false\n",
    "xor false true\n",
    "xor false false"
   ]
  },
  {
   "cell_type": "markdown",
   "id": "58a04b40",
   "metadata": {},
   "source": [
    "6)  \n",
    "Less than or equal and greater than or equal"
   ]
  },
  {
   "cell_type": "code",
   "execution_count": 41,
   "id": "c4f8188d",
   "metadata": {},
   "outputs": [
    {
     "name": "stdout",
     "output_type": "stream",
     "text": [
      "\u001b[?1l\u001b[22;34m\u001b[m\u001b[?1h\u001b[1;94m\u001b[?1l\u001b[22;34m\u001b[m\u001b[?1h\u001b[1;94m\u001b[?1l\u001b[22;34m\u001b[m\u001b[?1h\u001b[1;94m\u001b[?1l\u001b[22;34m\u001b[m\u001b[?1h\u001b[1;94m"
     ]
    }
   ],
   "source": [
    "iszero = \\n.(n (\\x.false) true)\n",
    "leq = \\m.\\n.(iszero (minus m n))\n",
    "geq = \\m.\\n.(iszero (minus n m))\n",
    "eq  = \\m.\\n.(and (leq m n) (leq n m))"
   ]
  },
  {
   "cell_type": "code",
   "execution_count": 42,
   "id": "1510eb47",
   "metadata": {},
   "outputs": [
    {
     "name": "stdout",
     "output_type": "stream",
     "text": [
      "\u001b[?1l\u001b[22;34mλa.λb.b\u001b[32m ⇒ nil, 0, false\u001b[m\u001b[m\r\n",
      "\u001b[m\u001b[?1h\u001b[1;94m\u001b[?1l\u001b[22;34mλa.λb.a\u001b[32m ⇒ K, true, const\u001b[m\u001b[m\r\n",
      "\u001b[m\u001b[?1h\u001b[1;94m\u001b[?1l\u001b[22;34mλa.λb.a\u001b[32m ⇒ K, true, const\u001b[m\u001b[m\r\n",
      "\u001b[m\u001b[?1h\u001b[1;94m"
     ]
    }
   ],
   "source": [
    "geq 0 1\n",
    "geq 0 0\n",
    "geq 1 0"
   ]
  },
  {
   "cell_type": "markdown",
   "id": "5b5616bc",
   "metadata": {},
   "source": [
    "7)  \n",
    "$\\mathcal{Y}$ combinator implements recursion by taking a function and calling it recursively until a base case is reached.  \n",
    "We can see how this might work from a top level $\\beta$ reduction involving some combinator $\\mathcal{R}$ as\n",
    "\\begin{align}\n",
    " \\mathcal{Y}\\mathcal{R}   &= (\\lambda f.\\ (\\lambda x.\\ f(xx))(\\lambda x.\\ f(xx)))\\mathcal{R}\\\\\n",
    "                    &= (\\lambda x.\\ \\mathcal{R}(xx))(\\lambda x.\\ \\mathcal{R}(xx))\\nonumber\\\\\n",
    "                    &= \\mathcal{R}((\\lambda x.\\ \\mathcal{R}(xx))(\\lambda x.\\ \\mathcal{R}(xx)))\\nonumber\\\\\n",
    "                    &= \\mathcal{R}(\\mathcal{Y}\\mathcal{R})\n",
    "\\end{align}"
   ]
  },
  {
   "cell_type": "code",
   "execution_count": 43,
   "id": "3cebc673",
   "metadata": {},
   "outputs": [
    {
     "name": "stdout",
     "output_type": "stream",
     "text": [
      "\u001b[?1l\u001b[22;34m\u001b[m\u001b[?1h\u001b[1;94m"
     ]
    }
   ],
   "source": [
    "Y != \\f.(\\x.f (x x))(\\x.f (x x))"
   ]
  },
  {
   "cell_type": "markdown",
   "id": "02e78489",
   "metadata": {},
   "source": [
    "8)  \n",
    "GCD x y :  \n",
    "x == y = x  \n",
    "x > y  = GCD (y) (x-y)  \n",
    "x < y  = GCD (x) (y-x)  "
   ]
  },
  {
   "cell_type": "code",
   "execution_count": 44,
   "id": "b056628f",
   "metadata": {},
   "outputs": [
    {
     "name": "stdout",
     "output_type": "stream",
     "text": [
      "\u001b[?1l\u001b[22;34m\u001b[m\u001b[?1h\u001b[1;94m\u001b[?1l\u001b[22;34m\u001b[m\u001b[?1h\u001b[1;94m"
     ]
    }
   ],
   "source": [
    "pred = \\n.\\f.\\x.n (\\g.(\\h.h (g f))) (\\u.x) (\\u.u)\n",
    "sub  = \\m.\\n.(n pred) m"
   ]
  },
  {
   "cell_type": "code",
   "execution_count": 45,
   "id": "28cfdba3",
   "metadata": {},
   "outputs": [
    {
     "name": "stdout",
     "output_type": "stream",
     "text": [
      "\u001b[?1l\u001b[22;34m\u001b[m\u001b[?1h\u001b[1;94m"
     ]
    }
   ],
   "source": [
    "gcd != Y (\\f.\\x.\\y.((eq x y) x ((geq x y) (f y (sub x y)) (f x (sub y x)))))"
   ]
  },
  {
   "cell_type": "code",
   "execution_count": 46,
   "id": "be69f1b5",
   "metadata": {},
   "outputs": [
    {
     "name": "stdout",
     "output_type": "stream",
     "text": [
      "\u001b[?1l\u001b[22;34mλa.λb.a (a b)\u001b[32m ⇒ 2\u001b[m\u001b[m\r\n",
      "\u001b[m\u001b[?1h\u001b[1;94m\u001b[?1l\u001b[22;34mλa.λb.a (a b)\u001b[32m ⇒ 2\u001b[m\u001b[m\r\n",
      "\u001b[m\u001b[?1h\u001b[1;94m\u001b[?1l\u001b[22;34mλa.λb.a b\u001b[32m ⇒ 1\u001b[m\u001b[m\r\n",
      "\u001b[m\u001b[?1h\u001b[1;94m"
     ]
    }
   ],
   "source": [
    "gcd 2 2\n",
    "gcd 4 2\n",
    "gcd 3 5"
   ]
  },
  {
   "cell_type": "markdown",
   "id": "841d2dfe",
   "metadata": {},
   "source": [
    "9)  \n",
    "Lists"
   ]
  },
  {
   "cell_type": "code",
   "execution_count": 47,
   "id": "f284b8c2",
   "metadata": {},
   "outputs": [
    {
     "name": "stdout",
     "output_type": "stream",
     "text": [
      "\u001b[?1l\u001b[22;34m\u001b[m\u001b[?1h\u001b[1;94m\u001b[?1l\u001b[22;34m\u001b[m\u001b[?1h\u001b[1;94m"
     ]
    }
   ],
   "source": [
    "cons = \\h.\\t.\\c.\\n.(c h (t c n))\n",
    "nil = \\c.\\n.n"
   ]
  },
  {
   "cell_type": "code",
   "execution_count": 48,
   "id": "6edd3d76",
   "metadata": {},
   "outputs": [
    {
     "name": "stdout",
     "output_type": "stream",
     "text": [
      "\u001b[?1l\u001b[22;34m\u001b[m\u001b[?1h\u001b[1;94m\u001b[?1l\u001b[22;34mλa.λb.(a (λc.λd.d)) ((a (λc.λd.c d)) ((a (λc.λd.c (c d))) ((a (λc.λd.c (c (c d)))) b)))\u001b[32m ⇒ a\u001b[m\u001b[m\r\n",
      "\u001b[m\u001b[?1h\u001b[1;94m"
     ]
    }
   ],
   "source": [
    "a = cons 0 (cons 1 (cons 2 (cons 3 nil)))\n",
    "a"
   ]
  },
  {
   "cell_type": "markdown",
   "id": "73d15987",
   "metadata": {},
   "source": [
    "Indexing works in this case by how many times the cons operation has been applied, \n",
    "or how deep into these brackets we have to go to find an element.    \n",
    "  \n",
    "\n",
    "Another way of looking at it is by cosidering cons as the infix operator ':'.  \n",
    "  \n",
    "In this way we can describe the list 'a' as:  \n",
    "0 : 1 : 2 : 3 : nil  \n",
    "which looks more like a normal list."
   ]
  },
  {
   "cell_type": "markdown",
   "id": "7427e4ff",
   "metadata": {},
   "source": [
    "Q10 a)  \n",
    "\\begin{align}\n",
    "    (\\lambda x.x)(\\lambda y.yz) &= x\\ [x := (\\lambda y.yz)]  \\\\\n",
    "    &= (\\lambda y.yz)\n",
    "\\end{align}"
   ]
  },
  {
   "cell_type": "markdown",
   "id": "4761a0ab",
   "metadata": {},
   "source": [
    "Q10 b)  \n",
    "\\begin{align}\n",
    "    (\\lambda x.x)(((\\lambda x.x))y) &= (\\lambda x.x)((\\lambda a.a)y)  \\\\\n",
    "    &= (\\lambda x.x)(a\\ [a := y]) \\\\\n",
    "    &= (\\lambda x.x)(y) \\\\\n",
    "    &= x\\ [x := y] \\\\\n",
    "    &= y\n",
    "\\end{align}"
   ]
  },
  {
   "cell_type": "markdown",
   "id": "12eee64d",
   "metadata": {},
   "source": [
    "Q10 c)  \n",
    "\\begin{align}\n",
    "    (\\lambda x.(xy))(\\lambda z.z) &= (xy)\\ [x := (\\lambda z.z)]  \\\\\n",
    "    &= (\\lambda z.z)y \\\\\n",
    "    &= z\\ [z := y] \\\\\n",
    "    &= y\n",
    "\\end{align}"
   ]
  },
  {
   "cell_type": "markdown",
   "id": "54caf31e",
   "metadata": {},
   "source": [
    "Q10 d)  \n",
    "\\begin{align}\n",
    "    ((\\lambda x.(\\lambda y.yx))x)(\\lambda z.w) &= (\\lambda y.yx)x\\ [x := (\\lambda z.w)] \\\\\n",
    "    &= (\\lambda y.y (\\lambda z.w))(\\lambda z.w) \\\\\n",
    "    &= (y (\\lambda z.w))\\ [y := (\\lambda z.w)] \\\\\n",
    "    &= (\\lambda z.w)(\\lambda z.w) \\\\\n",
    "    &= w\\ [z := (\\lambda z.w)] \\\\\n",
    "    &= w\n",
    "\\end{align}"
   ]
  },
  {
   "cell_type": "markdown",
   "id": "12a9227e",
   "metadata": {},
   "source": [
    "Q10 e)  \n",
    "\\begin{align}\n",
    "    ((\\lambda x.(xx))(\\lambda x.(xx))) &= ((\\lambda x.(xx))(\\lambda y.(yy))) \\\\\n",
    "    &= (xx)\\ [x := (\\lambda y.(yy))] \\\\\n",
    "    &= ((\\lambda y.(yy))(\\lambda y.(yy))) \\\\\n",
    "    &= ((\\lambda x.(xx))(\\lambda x.(xx)))\n",
    "\\end{align}\n",
    "This diverges and cannot be reduced."
   ]
  },
  {
   "cell_type": "code",
   "execution_count": null,
   "id": "a863886f",
   "metadata": {},
   "outputs": [],
   "source": []
  }
 ],
 "metadata": {
  "kernelspec": {
   "display_name": "IMikrokosmos",
   "language": "",
   "name": "imikrokosmos"
  },
  "language_info": {
   "codemirror_mode": "mikrokosmos",
   "file_extension": ".mkr",
   "mimetype": "text/plain",
   "name": "Mikrokosmos"
  }
 },
 "nbformat": 4,
 "nbformat_minor": 5
}
